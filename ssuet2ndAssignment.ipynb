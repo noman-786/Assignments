{
 "cells": [
  {
   "cell_type": "code",
   "execution_count": 2,
   "metadata": {},
   "outputs": [
    {
     "name": "stdout",
     "output_type": "stream",
     "text": [
      "Enter num 1 : 5\n",
      "Enter num 1 : 3\n",
      "5 is not completely divisible by  3\n"
     ]
    }
   ],
   "source": [
    "#task num 1\n",
    "num1=int(input(\"Enter num 1 : \"))\n",
    "num2=int(input(\"Enter num 1 : \"))\n",
    "ans=num1%num2\n",
    "if ans==0:\n",
    "    print(num1,\"is completely divisible by \",num2)\n",
    "else:\n",
    "    print(num1,\"is not completely divisible by \",num2)"
   ]
  },
  {
   "cell_type": "code",
   "execution_count": 4,
   "metadata": {},
   "outputs": [
    {
     "name": "stdout",
     "output_type": "stream",
     "text": [
      "Enter Name : noman\n",
      "How many copies of name you need : 3\n",
      "nomannomannoman\n"
     ]
    }
   ],
   "source": [
    "#task num 2\n",
    "name=input(\"Enter Name : \")\n",
    "num=int(input(\"How many copies of name you need : \"))\n",
    "copy=name*num\n",
    "print(copy)"
   ]
  },
  {
   "cell_type": "code",
   "execution_count": 8,
   "metadata": {},
   "outputs": [
    {
     "name": "stdout",
     "output_type": "stream",
     "text": [
      "Enter any charachter : J\n",
      "J  is not a vowel\n"
     ]
    }
   ],
   "source": [
    "#task num 3\n",
    "vowel=['a','e','i','o','u']\n",
    "char=input(\"Enter any charachter : \")\n",
    "if char.lower() in vowel:\n",
    "    print(char,\" is a vowel\")\n",
    "else:\n",
    "    print(char,\" is not a vowel\")"
   ]
  },
  {
   "cell_type": "code",
   "execution_count": 9,
   "metadata": {},
   "outputs": [
    {
     "name": "stdout",
     "output_type": "stream",
     "text": [
      "1\n",
      "3\n",
      "5\n",
      "7\n",
      "9\n",
      "11\n",
      "13\n",
      "15\n",
      "17\n",
      "19\n"
     ]
    }
   ],
   "source": [
    "#task num 4\n",
    "for oddNum in range(1,20,2):\n",
    "    print(oddNum)\n"
   ]
  },
  {
   "cell_type": "code",
   "execution_count": 11,
   "metadata": {},
   "outputs": [
    {
     "name": "stdout",
     "output_type": "stream",
     "text": [
      "['Biryani', 'White Chicken Karhai']  are first three items...\n",
      "['Pizza', 'Rabri']  are middle three items...\n",
      "['Beef Pulao', 'Tandoori Chicken', 'Zinger']  are last three items...\n"
     ]
    }
   ],
   "source": [
    "#task num 5\n",
    "dishes=['Biryani','White Chicken Karhai','Dal Mash Fry','Pizza','Rabri','Gajar ka Halwa','Beef Pulao','Tandoori Chicken','Zinger']\n",
    "print(dishes[0:2],\" are first three items...\")\n",
    "print(dishes[3:5],\" are middle three items...\")\n",
    "print(dishes[6:9],\" are last three items...\")\n"
   ]
  },
  {
   "cell_type": "code",
   "execution_count": null,
   "metadata": {},
   "outputs": [],
   "source": []
  }
 ],
 "metadata": {
  "kernelspec": {
   "display_name": "Python 3",
   "language": "python",
   "name": "python3"
  },
  "language_info": {
   "codemirror_mode": {
    "name": "ipython",
    "version": 3
   },
   "file_extension": ".py",
   "mimetype": "text/x-python",
   "name": "python",
   "nbconvert_exporter": "python",
   "pygments_lexer": "ipython3",
   "version": "3.7.4"
  }
 },
 "nbformat": 4,
 "nbformat_minor": 2
}
